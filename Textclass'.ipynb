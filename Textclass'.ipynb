{
  "nbformat": 4,
  "nbformat_minor": 0,
  "metadata": {
    "colab": {
      "provenance": []
    },
    "kernelspec": {
      "name": "python3",
      "display_name": "Python 3"
    },
    "language_info": {
      "name": "python"
    }
  },
  "cells": [
    {
      "cell_type": "code",
      "execution_count": null,
      "metadata": {
        "id": "l3WPgZ6NWutz"
      },
      "outputs": [],
      "source": [
        "import numpy as np\n",
        "import pandas as pd\n",
        "from numpy.linalg import norm\n",
        "from sklearn.metrics import classification_report, confusion_matrix\n",
        "from IPython.display import Image, display_png\n",
        "from gensim.models import word2vec, KeyedVectors\n",
        "from keras.models import Sequential\n",
        "from keras.layers import Input, Embedding, Dense, Dropout, Flatten, GlobalAveragePooling1D,Conv1D\n",
        "from keras.utils import to_categorical, plot_model, pad_sequences\n",
        "from keras.optimizers import RMSprop\n",
        "import matplotlib.pyplot as plt\n",
        "plt.style.use('ggplot')"
      ]
    },
    {
      "cell_type": "code",
      "source": [
        "!gdown 1hi4wVX7EXyNNLU0V-DRD6h2b4YwsLnM5"
      ],
      "metadata": {
        "colab": {
          "base_uri": "https://localhost:8080/"
        },
        "id": "g4DuiKlIZddz",
        "outputId": "09ef69d0-00c2-48a6-dba7-6ccaf8195493"
      },
      "execution_count": null,
      "outputs": [
        {
          "output_type": "stream",
          "name": "stdout",
          "text": [
            "Downloading...\n",
            "From: https://drive.google.com/uc?id=1hi4wVX7EXyNNLU0V-DRD6h2b4YwsLnM5\n",
            "To: /content/wongnai-data.zip\n",
            "\r  0% 0.00/15.1M [00:00<?, ?B/s]\r 94% 14.2M/15.1M [00:00<00:00, 139MB/s]\r100% 15.1M/15.1M [00:00<00:00, 142MB/s]\n"
          ]
        }
      ]
    },
    {
      "cell_type": "code",
      "source": [
        "!unzip wongnai-data.zip"
      ],
      "metadata": {
        "colab": {
          "base_uri": "https://localhost:8080/"
        },
        "id": "pGbBeDBMZd0x",
        "outputId": "1ec104e3-d5a0-4c84-9ffb-fb9e92ae1eeb"
      },
      "execution_count": null,
      "outputs": [
        {
          "output_type": "stream",
          "name": "stdout",
          "text": [
            "Archive:  wongnai-data.zip\n",
            "  inflating: wongnai-dev.csv         \n",
            "  inflating: wongnai-test.csv        \n",
            "  inflating: wongnai-train.csv       \n"
          ]
        }
      ]
    },
    {
      "cell_type": "code",
      "source": [
        "import pandas as pd\n",
        "#load data\n",
        "train = pd.read_csv('wongnai-train.csv', encoding='utf-8')\n",
        "dev = pd.read_csv('wongnai-dev.csv', encoding='utf-8')\n",
        "\n",
        "# show data\n",
        "train"
      ],
      "metadata": {
        "colab": {
          "base_uri": "https://localhost:8080/",
          "height": 423
        },
        "id": "qksqjUxzZf8k",
        "outputId": "01e4e46c-9285-4101-8eb5-9a7b7268cd66"
      },
      "execution_count": null,
      "outputs": [
        {
          "output_type": "execute_result",
          "data": {
            "text/plain": [
              "       star                                          tokenized\n",
              "0         5  มา|ตามคำแนะนำ|จาก|เพจ| |kin| |dee| |by| |praew...\n",
              "1         5  บรรยากาศ|ร้าน|น่า|นั่ง|สไตล์|ญี่ปุ่น| |อาหาร|อ...\n",
              "2         5  หน้า|ร้าน|เล็ก|ๆ| |แต่|เข้าไป|มี|พื้นที่|พอสมค...\n",
              "3         4  It|'|s| |really| |good| |that| |After| |You| |...\n",
              "4         3  มา|ทาน|ร้าน|นี้|ตั้งแต่|ร้าน|ยัง|ไม่|มี|ห้อง|แ...\n",
              "...     ...                                                ...\n",
              "23995     3  สาขา|ฟิวเจอร์|รังสิต| |วันอาทิตย์|คน|เยอะ|มาก|...\n",
              "23996     4  ติ๋ม|ซำ|หลากหลาย|หน้า| |ชิ้น|ค่อนข้าง|เล็ก| |ร...\n",
              "23997     5  ขับ|มา|ระหว่างทาง|จาก|ระยอง|จะ|ไป|จังหวัด|จันท...\n",
              "23998     4  ร้าน|นี้|ตั้งอยู่|ริมถนน|พระราม| |3|  |จะ|อยู่...\n",
              "23999     5  ร้าน|ปฐม|เป็น|ร้าน|ที่|ชอบ|มาก|ๆ|ตั้งแต่|เด็ก|...\n",
              "\n",
              "[24000 rows x 2 columns]"
            ],
            "text/html": [
              "\n",
              "  <div id=\"df-bfdaf569-1863-439c-9b81-ace3c441c949\" class=\"colab-df-container\">\n",
              "    <div>\n",
              "<style scoped>\n",
              "    .dataframe tbody tr th:only-of-type {\n",
              "        vertical-align: middle;\n",
              "    }\n",
              "\n",
              "    .dataframe tbody tr th {\n",
              "        vertical-align: top;\n",
              "    }\n",
              "\n",
              "    .dataframe thead th {\n",
              "        text-align: right;\n",
              "    }\n",
              "</style>\n",
              "<table border=\"1\" class=\"dataframe\">\n",
              "  <thead>\n",
              "    <tr style=\"text-align: right;\">\n",
              "      <th></th>\n",
              "      <th>star</th>\n",
              "      <th>tokenized</th>\n",
              "    </tr>\n",
              "  </thead>\n",
              "  <tbody>\n",
              "    <tr>\n",
              "      <th>0</th>\n",
              "      <td>5</td>\n",
              "      <td>มา|ตามคำแนะนำ|จาก|เพจ| |kin| |dee| |by| |praew...</td>\n",
              "    </tr>\n",
              "    <tr>\n",
              "      <th>1</th>\n",
              "      <td>5</td>\n",
              "      <td>บรรยากาศ|ร้าน|น่า|นั่ง|สไตล์|ญี่ปุ่น| |อาหาร|อ...</td>\n",
              "    </tr>\n",
              "    <tr>\n",
              "      <th>2</th>\n",
              "      <td>5</td>\n",
              "      <td>หน้า|ร้าน|เล็ก|ๆ| |แต่|เข้าไป|มี|พื้นที่|พอสมค...</td>\n",
              "    </tr>\n",
              "    <tr>\n",
              "      <th>3</th>\n",
              "      <td>4</td>\n",
              "      <td>It|'|s| |really| |good| |that| |After| |You| |...</td>\n",
              "    </tr>\n",
              "    <tr>\n",
              "      <th>4</th>\n",
              "      <td>3</td>\n",
              "      <td>มา|ทาน|ร้าน|นี้|ตั้งแต่|ร้าน|ยัง|ไม่|มี|ห้อง|แ...</td>\n",
              "    </tr>\n",
              "    <tr>\n",
              "      <th>...</th>\n",
              "      <td>...</td>\n",
              "      <td>...</td>\n",
              "    </tr>\n",
              "    <tr>\n",
              "      <th>23995</th>\n",
              "      <td>3</td>\n",
              "      <td>สาขา|ฟิวเจอร์|รังสิต| |วันอาทิตย์|คน|เยอะ|มาก|...</td>\n",
              "    </tr>\n",
              "    <tr>\n",
              "      <th>23996</th>\n",
              "      <td>4</td>\n",
              "      <td>ติ๋ม|ซำ|หลากหลาย|หน้า| |ชิ้น|ค่อนข้าง|เล็ก| |ร...</td>\n",
              "    </tr>\n",
              "    <tr>\n",
              "      <th>23997</th>\n",
              "      <td>5</td>\n",
              "      <td>ขับ|มา|ระหว่างทาง|จาก|ระยอง|จะ|ไป|จังหวัด|จันท...</td>\n",
              "    </tr>\n",
              "    <tr>\n",
              "      <th>23998</th>\n",
              "      <td>4</td>\n",
              "      <td>ร้าน|นี้|ตั้งอยู่|ริมถนน|พระราม| |3|  |จะ|อยู่...</td>\n",
              "    </tr>\n",
              "    <tr>\n",
              "      <th>23999</th>\n",
              "      <td>5</td>\n",
              "      <td>ร้าน|ปฐม|เป็น|ร้าน|ที่|ชอบ|มาก|ๆ|ตั้งแต่|เด็ก|...</td>\n",
              "    </tr>\n",
              "  </tbody>\n",
              "</table>\n",
              "<p>24000 rows × 2 columns</p>\n",
              "</div>\n",
              "    <div class=\"colab-df-buttons\">\n",
              "\n",
              "  <div class=\"colab-df-container\">\n",
              "    <button class=\"colab-df-convert\" onclick=\"convertToInteractive('df-bfdaf569-1863-439c-9b81-ace3c441c949')\"\n",
              "            title=\"Convert this dataframe to an interactive table.\"\n",
              "            style=\"display:none;\">\n",
              "\n",
              "  <svg xmlns=\"http://www.w3.org/2000/svg\" height=\"24px\" viewBox=\"0 -960 960 960\">\n",
              "    <path d=\"M120-120v-720h720v720H120Zm60-500h600v-160H180v160Zm220 220h160v-160H400v160Zm0 220h160v-160H400v160ZM180-400h160v-160H180v160Zm440 0h160v-160H620v160ZM180-180h160v-160H180v160Zm440 0h160v-160H620v160Z\"/>\n",
              "  </svg>\n",
              "    </button>\n",
              "\n",
              "  <style>\n",
              "    .colab-df-container {\n",
              "      display:flex;\n",
              "      gap: 12px;\n",
              "    }\n",
              "\n",
              "    .colab-df-convert {\n",
              "      background-color: #E8F0FE;\n",
              "      border: none;\n",
              "      border-radius: 50%;\n",
              "      cursor: pointer;\n",
              "      display: none;\n",
              "      fill: #1967D2;\n",
              "      height: 32px;\n",
              "      padding: 0 0 0 0;\n",
              "      width: 32px;\n",
              "    }\n",
              "\n",
              "    .colab-df-convert:hover {\n",
              "      background-color: #E2EBFA;\n",
              "      box-shadow: 0px 1px 2px rgba(60, 64, 67, 0.3), 0px 1px 3px 1px rgba(60, 64, 67, 0.15);\n",
              "      fill: #174EA6;\n",
              "    }\n",
              "\n",
              "    .colab-df-buttons div {\n",
              "      margin-bottom: 4px;\n",
              "    }\n",
              "\n",
              "    [theme=dark] .colab-df-convert {\n",
              "      background-color: #3B4455;\n",
              "      fill: #D2E3FC;\n",
              "    }\n",
              "\n",
              "    [theme=dark] .colab-df-convert:hover {\n",
              "      background-color: #434B5C;\n",
              "      box-shadow: 0px 1px 3px 1px rgba(0, 0, 0, 0.15);\n",
              "      filter: drop-shadow(0px 1px 2px rgba(0, 0, 0, 0.3));\n",
              "      fill: #FFFFFF;\n",
              "    }\n",
              "  </style>\n",
              "\n",
              "    <script>\n",
              "      const buttonEl =\n",
              "        document.querySelector('#df-bfdaf569-1863-439c-9b81-ace3c441c949 button.colab-df-convert');\n",
              "      buttonEl.style.display =\n",
              "        google.colab.kernel.accessAllowed ? 'block' : 'none';\n",
              "\n",
              "      async function convertToInteractive(key) {\n",
              "        const element = document.querySelector('#df-bfdaf569-1863-439c-9b81-ace3c441c949');\n",
              "        const dataTable =\n",
              "          await google.colab.kernel.invokeFunction('convertToInteractive',\n",
              "                                                    [key], {});\n",
              "        if (!dataTable) return;\n",
              "\n",
              "        const docLinkHtml = 'Like what you see? Visit the ' +\n",
              "          '<a target=\"_blank\" href=https://colab.research.google.com/notebooks/data_table.ipynb>data table notebook</a>'\n",
              "          + ' to learn more about interactive tables.';\n",
              "        element.innerHTML = '';\n",
              "        dataTable['output_type'] = 'display_data';\n",
              "        await google.colab.output.renderOutput(dataTable, element);\n",
              "        const docLink = document.createElement('div');\n",
              "        docLink.innerHTML = docLinkHtml;\n",
              "        element.appendChild(docLink);\n",
              "      }\n",
              "    </script>\n",
              "  </div>\n",
              "\n",
              "\n",
              "<div id=\"df-daabcdec-ba0a-429b-9d77-bd778773728e\">\n",
              "  <button class=\"colab-df-quickchart\" onclick=\"quickchart('df-daabcdec-ba0a-429b-9d77-bd778773728e')\"\n",
              "            title=\"Suggest charts.\"\n",
              "            style=\"display:none;\">\n",
              "\n",
              "<svg xmlns=\"http://www.w3.org/2000/svg\" height=\"24px\"viewBox=\"0 0 24 24\"\n",
              "     width=\"24px\">\n",
              "    <g>\n",
              "        <path d=\"M19 3H5c-1.1 0-2 .9-2 2v14c0 1.1.9 2 2 2h14c1.1 0 2-.9 2-2V5c0-1.1-.9-2-2-2zM9 17H7v-7h2v7zm4 0h-2V7h2v10zm4 0h-2v-4h2v4z\"/>\n",
              "    </g>\n",
              "</svg>\n",
              "  </button>\n",
              "\n",
              "<style>\n",
              "  .colab-df-quickchart {\n",
              "      --bg-color: #E8F0FE;\n",
              "      --fill-color: #1967D2;\n",
              "      --hover-bg-color: #E2EBFA;\n",
              "      --hover-fill-color: #174EA6;\n",
              "      --disabled-fill-color: #AAA;\n",
              "      --disabled-bg-color: #DDD;\n",
              "  }\n",
              "\n",
              "  [theme=dark] .colab-df-quickchart {\n",
              "      --bg-color: #3B4455;\n",
              "      --fill-color: #D2E3FC;\n",
              "      --hover-bg-color: #434B5C;\n",
              "      --hover-fill-color: #FFFFFF;\n",
              "      --disabled-bg-color: #3B4455;\n",
              "      --disabled-fill-color: #666;\n",
              "  }\n",
              "\n",
              "  .colab-df-quickchart {\n",
              "    background-color: var(--bg-color);\n",
              "    border: none;\n",
              "    border-radius: 50%;\n",
              "    cursor: pointer;\n",
              "    display: none;\n",
              "    fill: var(--fill-color);\n",
              "    height: 32px;\n",
              "    padding: 0;\n",
              "    width: 32px;\n",
              "  }\n",
              "\n",
              "  .colab-df-quickchart:hover {\n",
              "    background-color: var(--hover-bg-color);\n",
              "    box-shadow: 0 1px 2px rgba(60, 64, 67, 0.3), 0 1px 3px 1px rgba(60, 64, 67, 0.15);\n",
              "    fill: var(--button-hover-fill-color);\n",
              "  }\n",
              "\n",
              "  .colab-df-quickchart-complete:disabled,\n",
              "  .colab-df-quickchart-complete:disabled:hover {\n",
              "    background-color: var(--disabled-bg-color);\n",
              "    fill: var(--disabled-fill-color);\n",
              "    box-shadow: none;\n",
              "  }\n",
              "\n",
              "  .colab-df-spinner {\n",
              "    border: 2px solid var(--fill-color);\n",
              "    border-color: transparent;\n",
              "    border-bottom-color: var(--fill-color);\n",
              "    animation:\n",
              "      spin 1s steps(1) infinite;\n",
              "  }\n",
              "\n",
              "  @keyframes spin {\n",
              "    0% {\n",
              "      border-color: transparent;\n",
              "      border-bottom-color: var(--fill-color);\n",
              "      border-left-color: var(--fill-color);\n",
              "    }\n",
              "    20% {\n",
              "      border-color: transparent;\n",
              "      border-left-color: var(--fill-color);\n",
              "      border-top-color: var(--fill-color);\n",
              "    }\n",
              "    30% {\n",
              "      border-color: transparent;\n",
              "      border-left-color: var(--fill-color);\n",
              "      border-top-color: var(--fill-color);\n",
              "      border-right-color: var(--fill-color);\n",
              "    }\n",
              "    40% {\n",
              "      border-color: transparent;\n",
              "      border-right-color: var(--fill-color);\n",
              "      border-top-color: var(--fill-color);\n",
              "    }\n",
              "    60% {\n",
              "      border-color: transparent;\n",
              "      border-right-color: var(--fill-color);\n",
              "    }\n",
              "    80% {\n",
              "      border-color: transparent;\n",
              "      border-right-color: var(--fill-color);\n",
              "      border-bottom-color: var(--fill-color);\n",
              "    }\n",
              "    90% {\n",
              "      border-color: transparent;\n",
              "      border-bottom-color: var(--fill-color);\n",
              "    }\n",
              "  }\n",
              "</style>\n",
              "\n",
              "  <script>\n",
              "    async function quickchart(key) {\n",
              "      const quickchartButtonEl =\n",
              "        document.querySelector('#' + key + ' button');\n",
              "      quickchartButtonEl.disabled = true;  // To prevent multiple clicks.\n",
              "      quickchartButtonEl.classList.add('colab-df-spinner');\n",
              "      try {\n",
              "        const charts = await google.colab.kernel.invokeFunction(\n",
              "            'suggestCharts', [key], {});\n",
              "      } catch (error) {\n",
              "        console.error('Error during call to suggestCharts:', error);\n",
              "      }\n",
              "      quickchartButtonEl.classList.remove('colab-df-spinner');\n",
              "      quickchartButtonEl.classList.add('colab-df-quickchart-complete');\n",
              "    }\n",
              "    (() => {\n",
              "      let quickchartButtonEl =\n",
              "        document.querySelector('#df-daabcdec-ba0a-429b-9d77-bd778773728e button');\n",
              "      quickchartButtonEl.style.display =\n",
              "        google.colab.kernel.accessAllowed ? 'block' : 'none';\n",
              "    })();\n",
              "  </script>\n",
              "</div>\n",
              "    </div>\n",
              "  </div>\n"
            ]
          },
          "metadata": {},
          "execution_count": 4
        }
      ]
    },
    {
      "cell_type": "code",
      "source": [
        "# Add a new column called \"length\" to the train and dev DataFrames, which contains the number of tokens in each review.\n",
        "train['length'] = train['tokenized'].apply(lambda x: x.count('|'))\n",
        "dev['length'] = dev['tokenized'].apply(lambda x: x.count('|'))\n",
        "dev"
      ],
      "metadata": {
        "colab": {
          "base_uri": "https://localhost:8080/",
          "height": 423
        },
        "id": "esvXgWVgZgQx",
        "outputId": "e16d94d5-c19c-4891-bd81-744b4b5cfd85"
      },
      "execution_count": null,
      "outputs": [
        {
          "output_type": "execute_result",
          "data": {
            "text/plain": [
              "      star                                          tokenized  length\n",
              "0        4  ร้าน|เล็ก|ๆ|ตกแต่ง|น่ารัก|สไตล์|ญี่ปุ่น| |อยู่...      65\n",
              "1        4  แวะ|ไป|ชม|งาน|ครบรอบ| |150| |ปี| |สมเด็จ|พระพั...     466\n",
              "2        3  ร้าน|ข้าวหมูแดง|สี|มรกต|เจ้าเก่า|จาก|เยาวราช| ...     231\n",
              "3        3  ร้าน| |Food| |Truck| |อาหาร|ญี่ปุ่น|ชื่อดัง| |...     123\n",
              "4        3  ร้าน|นี้|เส้น|เขา|อร่อย|มาก|เลย|คะ| |นุ่ม|หนึบ...     236\n",
              "...    ...                                                ...     ...\n",
              "7995     2  วันนี้|ก็|เหมือนเคย| |กะ|ไป|ทานข้าว|เจ้าประจำ|...     151\n",
              "7996     3  รีวิว|อัน|แรก|ก็|ต้อง|ด่า|ซะ|แล้ว| |\\n|สำหรับ|...     175\n",
              "7997     4  ร้าน|laduree| |ใน|london| |มี|ด้วยกัน|2| |สาขา...     696\n",
              "7998     3  มื้อ|กลางวัน|วันนี้| |เรา|แวะ|มา|ทาน|ที่|  |Je...     153\n",
              "7999     4  ไม่|ได้|นั่ง|ทาน|ค่ะ|เพราะ|อิ่ม|มา|แล้ว| |เลย|...     142\n",
              "\n",
              "[8000 rows x 3 columns]"
            ],
            "text/html": [
              "\n",
              "  <div id=\"df-847d8241-092f-4f9a-a692-311d7265e7c2\" class=\"colab-df-container\">\n",
              "    <div>\n",
              "<style scoped>\n",
              "    .dataframe tbody tr th:only-of-type {\n",
              "        vertical-align: middle;\n",
              "    }\n",
              "\n",
              "    .dataframe tbody tr th {\n",
              "        vertical-align: top;\n",
              "    }\n",
              "\n",
              "    .dataframe thead th {\n",
              "        text-align: right;\n",
              "    }\n",
              "</style>\n",
              "<table border=\"1\" class=\"dataframe\">\n",
              "  <thead>\n",
              "    <tr style=\"text-align: right;\">\n",
              "      <th></th>\n",
              "      <th>star</th>\n",
              "      <th>tokenized</th>\n",
              "      <th>length</th>\n",
              "    </tr>\n",
              "  </thead>\n",
              "  <tbody>\n",
              "    <tr>\n",
              "      <th>0</th>\n",
              "      <td>4</td>\n",
              "      <td>ร้าน|เล็ก|ๆ|ตกแต่ง|น่ารัก|สไตล์|ญี่ปุ่น| |อยู่...</td>\n",
              "      <td>65</td>\n",
              "    </tr>\n",
              "    <tr>\n",
              "      <th>1</th>\n",
              "      <td>4</td>\n",
              "      <td>แวะ|ไป|ชม|งาน|ครบรอบ| |150| |ปี| |สมเด็จ|พระพั...</td>\n",
              "      <td>466</td>\n",
              "    </tr>\n",
              "    <tr>\n",
              "      <th>2</th>\n",
              "      <td>3</td>\n",
              "      <td>ร้าน|ข้าวหมูแดง|สี|มรกต|เจ้าเก่า|จาก|เยาวราช| ...</td>\n",
              "      <td>231</td>\n",
              "    </tr>\n",
              "    <tr>\n",
              "      <th>3</th>\n",
              "      <td>3</td>\n",
              "      <td>ร้าน| |Food| |Truck| |อาหาร|ญี่ปุ่น|ชื่อดัง| |...</td>\n",
              "      <td>123</td>\n",
              "    </tr>\n",
              "    <tr>\n",
              "      <th>4</th>\n",
              "      <td>3</td>\n",
              "      <td>ร้าน|นี้|เส้น|เขา|อร่อย|มาก|เลย|คะ| |นุ่ม|หนึบ...</td>\n",
              "      <td>236</td>\n",
              "    </tr>\n",
              "    <tr>\n",
              "      <th>...</th>\n",
              "      <td>...</td>\n",
              "      <td>...</td>\n",
              "      <td>...</td>\n",
              "    </tr>\n",
              "    <tr>\n",
              "      <th>7995</th>\n",
              "      <td>2</td>\n",
              "      <td>วันนี้|ก็|เหมือนเคย| |กะ|ไป|ทานข้าว|เจ้าประจำ|...</td>\n",
              "      <td>151</td>\n",
              "    </tr>\n",
              "    <tr>\n",
              "      <th>7996</th>\n",
              "      <td>3</td>\n",
              "      <td>รีวิว|อัน|แรก|ก็|ต้อง|ด่า|ซะ|แล้ว| |\\n|สำหรับ|...</td>\n",
              "      <td>175</td>\n",
              "    </tr>\n",
              "    <tr>\n",
              "      <th>7997</th>\n",
              "      <td>4</td>\n",
              "      <td>ร้าน|laduree| |ใน|london| |มี|ด้วยกัน|2| |สาขา...</td>\n",
              "      <td>696</td>\n",
              "    </tr>\n",
              "    <tr>\n",
              "      <th>7998</th>\n",
              "      <td>3</td>\n",
              "      <td>มื้อ|กลางวัน|วันนี้| |เรา|แวะ|มา|ทาน|ที่|  |Je...</td>\n",
              "      <td>153</td>\n",
              "    </tr>\n",
              "    <tr>\n",
              "      <th>7999</th>\n",
              "      <td>4</td>\n",
              "      <td>ไม่|ได้|นั่ง|ทาน|ค่ะ|เพราะ|อิ่ม|มา|แล้ว| |เลย|...</td>\n",
              "      <td>142</td>\n",
              "    </tr>\n",
              "  </tbody>\n",
              "</table>\n",
              "<p>8000 rows × 3 columns</p>\n",
              "</div>\n",
              "    <div class=\"colab-df-buttons\">\n",
              "\n",
              "  <div class=\"colab-df-container\">\n",
              "    <button class=\"colab-df-convert\" onclick=\"convertToInteractive('df-847d8241-092f-4f9a-a692-311d7265e7c2')\"\n",
              "            title=\"Convert this dataframe to an interactive table.\"\n",
              "            style=\"display:none;\">\n",
              "\n",
              "  <svg xmlns=\"http://www.w3.org/2000/svg\" height=\"24px\" viewBox=\"0 -960 960 960\">\n",
              "    <path d=\"M120-120v-720h720v720H120Zm60-500h600v-160H180v160Zm220 220h160v-160H400v160Zm0 220h160v-160H400v160ZM180-400h160v-160H180v160Zm440 0h160v-160H620v160ZM180-180h160v-160H180v160Zm440 0h160v-160H620v160Z\"/>\n",
              "  </svg>\n",
              "    </button>\n",
              "\n",
              "  <style>\n",
              "    .colab-df-container {\n",
              "      display:flex;\n",
              "      gap: 12px;\n",
              "    }\n",
              "\n",
              "    .colab-df-convert {\n",
              "      background-color: #E8F0FE;\n",
              "      border: none;\n",
              "      border-radius: 50%;\n",
              "      cursor: pointer;\n",
              "      display: none;\n",
              "      fill: #1967D2;\n",
              "      height: 32px;\n",
              "      padding: 0 0 0 0;\n",
              "      width: 32px;\n",
              "    }\n",
              "\n",
              "    .colab-df-convert:hover {\n",
              "      background-color: #E2EBFA;\n",
              "      box-shadow: 0px 1px 2px rgba(60, 64, 67, 0.3), 0px 1px 3px 1px rgba(60, 64, 67, 0.15);\n",
              "      fill: #174EA6;\n",
              "    }\n",
              "\n",
              "    .colab-df-buttons div {\n",
              "      margin-bottom: 4px;\n",
              "    }\n",
              "\n",
              "    [theme=dark] .colab-df-convert {\n",
              "      background-color: #3B4455;\n",
              "      fill: #D2E3FC;\n",
              "    }\n",
              "\n",
              "    [theme=dark] .colab-df-convert:hover {\n",
              "      background-color: #434B5C;\n",
              "      box-shadow: 0px 1px 3px 1px rgba(0, 0, 0, 0.15);\n",
              "      filter: drop-shadow(0px 1px 2px rgba(0, 0, 0, 0.3));\n",
              "      fill: #FFFFFF;\n",
              "    }\n",
              "  </style>\n",
              "\n",
              "    <script>\n",
              "      const buttonEl =\n",
              "        document.querySelector('#df-847d8241-092f-4f9a-a692-311d7265e7c2 button.colab-df-convert');\n",
              "      buttonEl.style.display =\n",
              "        google.colab.kernel.accessAllowed ? 'block' : 'none';\n",
              "\n",
              "      async function convertToInteractive(key) {\n",
              "        const element = document.querySelector('#df-847d8241-092f-4f9a-a692-311d7265e7c2');\n",
              "        const dataTable =\n",
              "          await google.colab.kernel.invokeFunction('convertToInteractive',\n",
              "                                                    [key], {});\n",
              "        if (!dataTable) return;\n",
              "\n",
              "        const docLinkHtml = 'Like what you see? Visit the ' +\n",
              "          '<a target=\"_blank\" href=https://colab.research.google.com/notebooks/data_table.ipynb>data table notebook</a>'\n",
              "          + ' to learn more about interactive tables.';\n",
              "        element.innerHTML = '';\n",
              "        dataTable['output_type'] = 'display_data';\n",
              "        await google.colab.output.renderOutput(dataTable, element);\n",
              "        const docLink = document.createElement('div');\n",
              "        docLink.innerHTML = docLinkHtml;\n",
              "        element.appendChild(docLink);\n",
              "      }\n",
              "    </script>\n",
              "  </div>\n",
              "\n",
              "\n",
              "<div id=\"df-9773e8a5-dc6a-4a62-b410-716506b32de3\">\n",
              "  <button class=\"colab-df-quickchart\" onclick=\"quickchart('df-9773e8a5-dc6a-4a62-b410-716506b32de3')\"\n",
              "            title=\"Suggest charts.\"\n",
              "            style=\"display:none;\">\n",
              "\n",
              "<svg xmlns=\"http://www.w3.org/2000/svg\" height=\"24px\"viewBox=\"0 0 24 24\"\n",
              "     width=\"24px\">\n",
              "    <g>\n",
              "        <path d=\"M19 3H5c-1.1 0-2 .9-2 2v14c0 1.1.9 2 2 2h14c1.1 0 2-.9 2-2V5c0-1.1-.9-2-2-2zM9 17H7v-7h2v7zm4 0h-2V7h2v10zm4 0h-2v-4h2v4z\"/>\n",
              "    </g>\n",
              "</svg>\n",
              "  </button>\n",
              "\n",
              "<style>\n",
              "  .colab-df-quickchart {\n",
              "      --bg-color: #E8F0FE;\n",
              "      --fill-color: #1967D2;\n",
              "      --hover-bg-color: #E2EBFA;\n",
              "      --hover-fill-color: #174EA6;\n",
              "      --disabled-fill-color: #AAA;\n",
              "      --disabled-bg-color: #DDD;\n",
              "  }\n",
              "\n",
              "  [theme=dark] .colab-df-quickchart {\n",
              "      --bg-color: #3B4455;\n",
              "      --fill-color: #D2E3FC;\n",
              "      --hover-bg-color: #434B5C;\n",
              "      --hover-fill-color: #FFFFFF;\n",
              "      --disabled-bg-color: #3B4455;\n",
              "      --disabled-fill-color: #666;\n",
              "  }\n",
              "\n",
              "  .colab-df-quickchart {\n",
              "    background-color: var(--bg-color);\n",
              "    border: none;\n",
              "    border-radius: 50%;\n",
              "    cursor: pointer;\n",
              "    display: none;\n",
              "    fill: var(--fill-color);\n",
              "    height: 32px;\n",
              "    padding: 0;\n",
              "    width: 32px;\n",
              "  }\n",
              "\n",
              "  .colab-df-quickchart:hover {\n",
              "    background-color: var(--hover-bg-color);\n",
              "    box-shadow: 0 1px 2px rgba(60, 64, 67, 0.3), 0 1px 3px 1px rgba(60, 64, 67, 0.15);\n",
              "    fill: var(--button-hover-fill-color);\n",
              "  }\n",
              "\n",
              "  .colab-df-quickchart-complete:disabled,\n",
              "  .colab-df-quickchart-complete:disabled:hover {\n",
              "    background-color: var(--disabled-bg-color);\n",
              "    fill: var(--disabled-fill-color);\n",
              "    box-shadow: none;\n",
              "  }\n",
              "\n",
              "  .colab-df-spinner {\n",
              "    border: 2px solid var(--fill-color);\n",
              "    border-color: transparent;\n",
              "    border-bottom-color: var(--fill-color);\n",
              "    animation:\n",
              "      spin 1s steps(1) infinite;\n",
              "  }\n",
              "\n",
              "  @keyframes spin {\n",
              "    0% {\n",
              "      border-color: transparent;\n",
              "      border-bottom-color: var(--fill-color);\n",
              "      border-left-color: var(--fill-color);\n",
              "    }\n",
              "    20% {\n",
              "      border-color: transparent;\n",
              "      border-left-color: var(--fill-color);\n",
              "      border-top-color: var(--fill-color);\n",
              "    }\n",
              "    30% {\n",
              "      border-color: transparent;\n",
              "      border-left-color: var(--fill-color);\n",
              "      border-top-color: var(--fill-color);\n",
              "      border-right-color: var(--fill-color);\n",
              "    }\n",
              "    40% {\n",
              "      border-color: transparent;\n",
              "      border-right-color: var(--fill-color);\n",
              "      border-top-color: var(--fill-color);\n",
              "    }\n",
              "    60% {\n",
              "      border-color: transparent;\n",
              "      border-right-color: var(--fill-color);\n",
              "    }\n",
              "    80% {\n",
              "      border-color: transparent;\n",
              "      border-right-color: var(--fill-color);\n",
              "      border-bottom-color: var(--fill-color);\n",
              "    }\n",
              "    90% {\n",
              "      border-color: transparent;\n",
              "      border-bottom-color: var(--fill-color);\n",
              "    }\n",
              "  }\n",
              "</style>\n",
              "\n",
              "  <script>\n",
              "    async function quickchart(key) {\n",
              "      const quickchartButtonEl =\n",
              "        document.querySelector('#' + key + ' button');\n",
              "      quickchartButtonEl.disabled = true;  // To prevent multiple clicks.\n",
              "      quickchartButtonEl.classList.add('colab-df-spinner');\n",
              "      try {\n",
              "        const charts = await google.colab.kernel.invokeFunction(\n",
              "            'suggestCharts', [key], {});\n",
              "      } catch (error) {\n",
              "        console.error('Error during call to suggestCharts:', error);\n",
              "      }\n",
              "      quickchartButtonEl.classList.remove('colab-df-spinner');\n",
              "      quickchartButtonEl.classList.add('colab-df-quickchart-complete');\n",
              "    }\n",
              "    (() => {\n",
              "      let quickchartButtonEl =\n",
              "        document.querySelector('#df-9773e8a5-dc6a-4a62-b410-716506b32de3 button');\n",
              "      quickchartButtonEl.style.display =\n",
              "        google.colab.kernel.accessAllowed ? 'block' : 'none';\n",
              "    })();\n",
              "  </script>\n",
              "</div>\n",
              "    </div>\n",
              "  </div>\n"
            ]
          },
          "metadata": {},
          "execution_count": 5
        }
      ]
    },
    {
      "cell_type": "code",
      "source": [
        "train.length.describe()"
      ],
      "metadata": {
        "colab": {
          "base_uri": "https://localhost:8080/"
        },
        "id": "5HKG24V5Zhw7",
        "outputId": "5a45b746-6967-4409-dcf0-f68a8b85322b"
      },
      "execution_count": null,
      "outputs": [
        {
          "output_type": "execute_result",
          "data": {
            "text/plain": [
              "count    24000.000000\n",
              "mean       161.704833\n",
              "std        165.658685\n",
              "min          7.000000\n",
              "25%         74.000000\n",
              "50%        110.000000\n",
              "75%        183.000000\n",
              "max       5486.000000\n",
              "Name: length, dtype: float64"
            ]
          },
          "metadata": {},
          "execution_count": 6
        }
      ]
    },
    {
      "cell_type": "code",
      "source": [
        "!gdown 157SHMUysLZpa2D3o3C8uvdKmF85tnNPx"
      ],
      "metadata": {
        "colab": {
          "base_uri": "https://localhost:8080/"
        },
        "id": "S4deKy6lZj7b",
        "outputId": "d030ea34-066c-46e8-e45a-b88aa90bf05d"
      },
      "execution_count": null,
      "outputs": [
        {
          "output_type": "stream",
          "name": "stdout",
          "text": [
            "Downloading...\n",
            "From: https://drive.google.com/uc?id=157SHMUysLZpa2D3o3C8uvdKmF85tnNPx\n",
            "To: /content/TNC_embeddings-50.bin\n",
            "100% 13.6M/13.6M [00:00<00:00, 26.2MB/s]\n"
          ]
        }
      ]
    },
    {
      "cell_type": "code",
      "source": [
        "w2v_model = KeyedVectors.load_word2vec_format(\"TNC_embeddings-50.bin\",binary=True, unicode_errors='ignore')"
      ],
      "metadata": {
        "colab": {
          "base_uri": "https://localhost:8080/"
        },
        "id": "iXud2ld5Zley",
        "outputId": "8b024779-8bef-4ccd-b20f-e03e86c6e25e"
      },
      "execution_count": null,
      "outputs": [
        {
          "output_type": "stream",
          "name": "stderr",
          "text": [
            "WARNING:gensim.models.keyedvectors:duplicate word 'พระบาทสมเด็จพระพุทธยอดฟ้าจุฬาโลก' in word2vec file, ignoring all but first\n"
          ]
        }
      ]
    },
    {
      "cell_type": "code",
      "source": [
        "vocab_size = len(w2v_model.index_to_key)\n",
        "print('vocab size: ', vocab_size)\n",
        "\n",
        "vector_dim = len(w2v_model['ไป'])\n",
        "print('vocab dimension: ', vector_dim)"
      ],
      "metadata": {
        "colab": {
          "base_uri": "https://localhost:8080/"
        },
        "id": "0gTlTOQEZnI5",
        "outputId": "2961a20a-b315-46f8-9753-80d5efa8573c"
      },
      "execution_count": null,
      "outputs": [
        {
          "output_type": "stream",
          "name": "stdout",
          "text": [
            "vocab size:  61631\n",
            "vocab dimension:  50\n"
          ]
        }
      ]
    },
    {
      "cell_type": "code",
      "source": [
        "# make weight matrix of word embedding, vocab size + 1 (for padding)\n",
        "embedding_matrix = np.zeros((vocab_size+1, vector_dim), dtype=\"float32\")\n",
        "embedding_matrix[0] = np.zeros(vector_dim)\n",
        "\n",
        "word_to_index = {word:i+1 for i, word in enumerate(w2v_model.index_to_key)}\n",
        "\n",
        "# word to index dictionary, 0 for padding, UNKNOWN\n",
        "word_to_index['PADDING'] = 0\n",
        "\n",
        "for i, word in enumerate(w2v_model.index_to_key):\n",
        "  if word is not None:\n",
        "    embedding_matrix[i+1] = w2v_model[word]"
      ],
      "metadata": {
        "id": "tk7WclrmZoyQ"
      },
      "execution_count": null,
      "outputs": []
    },
    {
      "cell_type": "code",
      "source": [
        "word_to_index['ไป']"
      ],
      "metadata": {
        "colab": {
          "base_uri": "https://localhost:8080/"
        },
        "id": "PqejU-DZZp8g",
        "outputId": "757f3a83-1465-4eea-d50e-7e0735f42fce"
      },
      "execution_count": null,
      "outputs": [
        {
          "output_type": "execute_result",
          "data": {
            "text/plain": [
              "15"
            ]
          },
          "metadata": {},
          "execution_count": 11
        }
      ]
    },
    {
      "cell_type": "code",
      "source": [
        "def convert_words (df, word_to_index, max_length):\n",
        "  tokens = df['tokenized'].apply(lambda x: x.split('|'))\n",
        "  list_of_list_of_indices = list (tokens.map(lambda x: [word_to_index.get(word, 0) for word in x]))\n",
        "  return pad_sequences(list_of_list_of_indices, max_length, padding='post', value=0, truncating='post')\n",
        "\n",
        "#max length (กำหนดเอง)\n",
        "max_len = 500\n",
        "train_x = convert_words (train, word_to_index, max_len)\n",
        "dev_x = convert_words (dev, word_to_index, max_len)"
      ],
      "metadata": {
        "id": "JEVIMydQZrxA"
      },
      "execution_count": null,
      "outputs": []
    },
    {
      "cell_type": "code",
      "source": [
        "train_x[0]"
      ],
      "metadata": {
        "colab": {
          "base_uri": "https://localhost:8080/"
        },
        "id": "tmDHiLkbZsNp",
        "outputId": "19a2fb84-e7d8-4456-8598-2a4790764ab6"
      },
      "execution_count": null,
      "outputs": [
        {
          "output_type": "execute_result",
          "data": {
            "text/plain": [
              "array([   17,     0,    25, 10459,     0,     0,     0,     0,     0,\n",
              "        3970,     0,     0,     0,     2,    77,   273,    11,  1109,\n",
              "         123,  9631,     0,   123,    36,  1571,  2797,    14,    36,\n",
              "          17,     0, 12663,     0,  1944,     0,     0,     0, 11200,\n",
              "           0,    35,  1606,  4983,     0,     2, 10459,  1132,     7,\n",
              "       45943,  3000,    22,    12,    37, 14804,     0,   672,  1004,\n",
              "          30,   101,   335,     0,     0,     0,     0,  1022,  7425,\n",
              "         272,     0,   325,     0,    15,  3954,     0,   698,   885,\n",
              "           0, 12663,     0,  1944,     0,  3665,    22,     0,   197,\n",
              "         198,    15,     4,   380,     0,     5,  1841,   257,   628,\n",
              "         816,    22,     0,   598,   567,     0,   402,    63,    22,\n",
              "           0,     0,   257,    32,     2,     0,     0, 11200,     0,\n",
              "           0,  4003,   476,    22,     0,    53,     0, 12482,     0,\n",
              "           5,    70,     0,     0,  4003,  1301,   298,     0,   381,\n",
              "           0, 17353,     0,   448,   373,  1220,     0,    48,   340,\n",
              "        7700,  6056, 12482,     0,   110,  4214,  2826, 12085,  8165,\n",
              "           0,   123,    36,   340,   406,   508,    17,   302,     0,\n",
              "       27642,     0, 23136, 12482,     0,   262,  1491,     0,   424,\n",
              "           0,     0,  1894,     0,    84,     0,     0,  1281, 12803,\n",
              "       18341,   593,     0,  1220,   117,     0,    35,  9890,     0,\n",
              "         448,    34,     0,  1281,  2246,  1053,    22,     0,  2872,\n",
              "         110, 12803,  4214,    22,     0,  1941,   230,     0,  5782,\n",
              "        8214, 10238,    17,   255,  2552,  3695,  1362, 21963,     0,\n",
              "           0,     0,   214,   123,  4798,    84,     0,     0,     0,\n",
              "           0,     0,     0,     0,     0,     0,     0,     0,     0,\n",
              "           0,     0,     0,     0,     0,     0,     0,     0,     0,\n",
              "           0,     0,     0,     0,     0,     0,     0,     0,     0,\n",
              "           0,     0,     0,     0,     0,     0,     0,     0,     0,\n",
              "           0,     0,     0,     0,     0,     0,     0,     0,     0,\n",
              "           0,     0,     0,     0,     0,     0,     0,     0,     0,\n",
              "           0,     0,     0,     0,     0,     0,     0,     0,     0,\n",
              "           0,     0,     0,     0,     0,     0,     0,     0,     0,\n",
              "           0,     0,     0,     0,     0,     0,     0,     0,     0,\n",
              "           0,     0,     0,     0,     0,     0,     0,     0,     0,\n",
              "           0,     0,     0,     0,     0,     0,     0,     0,     0,\n",
              "           0,     0,     0,     0,     0,     0,     0,     0,     0,\n",
              "           0,     0,     0,     0,     0,     0,     0,     0,     0,\n",
              "           0,     0,     0,     0,     0,     0,     0,     0,     0,\n",
              "           0,     0,     0,     0,     0,     0,     0,     0,     0,\n",
              "           0,     0,     0,     0,     0,     0,     0,     0,     0,\n",
              "           0,     0,     0,     0,     0,     0,     0,     0,     0,\n",
              "           0,     0,     0,     0,     0,     0,     0,     0,     0,\n",
              "           0,     0,     0,     0,     0,     0,     0,     0,     0,\n",
              "           0,     0,     0,     0,     0,     0,     0,     0,     0,\n",
              "           0,     0,     0,     0,     0,     0,     0,     0,     0,\n",
              "           0,     0,     0,     0,     0,     0,     0,     0,     0,\n",
              "           0,     0,     0,     0,     0,     0,     0,     0,     0,\n",
              "           0,     0,     0,     0,     0,     0,     0,     0,     0,\n",
              "           0,     0,     0,     0,     0,     0,     0,     0,     0,\n",
              "           0,     0,     0,     0,     0,     0,     0,     0,     0,\n",
              "           0,     0,     0,     0,     0,     0,     0,     0,     0,\n",
              "           0,     0,     0,     0,     0,     0,     0,     0,     0,\n",
              "           0,     0,     0,     0,     0,     0,     0,     0,     0,\n",
              "           0,     0,     0,     0,     0,     0,     0,     0,     0,\n",
              "           0,     0,     0,     0,     0,     0,     0,     0,     0,\n",
              "           0,     0,     0,     0,     0], dtype=int32)"
            ]
          },
          "metadata": {},
          "execution_count": 13
        }
      ]
    },
    {
      "cell_type": "code",
      "source": [
        "def get_label(d):\n",
        "  star_to_label = {1:0, 2:0, 3:1, 4:2, 5:2}\n",
        "  # apply functions & convert to mp.array\n",
        "  label = np.array(d['label'].replace(star_to_label).tolist())\n",
        "  d['label'] = label\n",
        "  return to_categorical(label, num_classes=3)\n",
        "\n",
        "#label one-hot vector\n",
        "train_y = get_label(train)\n",
        "dev_y = get_label(dev)"
      ],
      "metadata": {
        "id": "KmE1WF9sZtzo",
        "outputId": "a7473bfb-c100-4be8-ff84-01eea272a141",
        "colab": {
          "base_uri": "https://localhost:8080/",
          "height": 234
        }
      },
      "execution_count": null,
      "outputs": [
        {
          "output_type": "error",
          "ename": "NameError",
          "evalue": "ignored",
          "traceback": [
            "\u001b[0;31m---------------------------------------------------------------------------\u001b[0m",
            "\u001b[0;31mNameError\u001b[0m                                 Traceback (most recent call last)",
            "\u001b[0;32m<ipython-input-1-e7f81faeb4d9>\u001b[0m in \u001b[0;36m<cell line: 9>\u001b[0;34m()\u001b[0m\n\u001b[1;32m      7\u001b[0m \u001b[0;34m\u001b[0m\u001b[0m\n\u001b[1;32m      8\u001b[0m \u001b[0;31m#label one-hot vector\u001b[0m\u001b[0;34m\u001b[0m\u001b[0;34m\u001b[0m\u001b[0m\n\u001b[0;32m----> 9\u001b[0;31m \u001b[0mtrain_y\u001b[0m \u001b[0;34m=\u001b[0m \u001b[0mget_label\u001b[0m\u001b[0;34m(\u001b[0m\u001b[0mtrain\u001b[0m\u001b[0;34m)\u001b[0m\u001b[0;34m\u001b[0m\u001b[0;34m\u001b[0m\u001b[0m\n\u001b[0m\u001b[1;32m     10\u001b[0m \u001b[0mdev_y\u001b[0m \u001b[0;34m=\u001b[0m \u001b[0mget_label\u001b[0m\u001b[0;34m(\u001b[0m\u001b[0mdev\u001b[0m\u001b[0;34m)\u001b[0m\u001b[0;34m\u001b[0m\u001b[0;34m\u001b[0m\u001b[0m\n",
            "\u001b[0;31mNameError\u001b[0m: name 'train' is not defined"
          ]
        }
      ]
    },
    {
      "cell_type": "code",
      "source": [
        "train_y[0:10]"
      ],
      "metadata": {
        "colab": {
          "base_uri": "https://localhost:8080/"
        },
        "id": "KEiVIfCuZu1L",
        "outputId": "7383dc75-47b9-4c59-cc2e-9b010b61c903"
      },
      "execution_count": null,
      "outputs": [
        {
          "output_type": "execute_result",
          "data": {
            "text/plain": [
              "array([[0., 0., 1.],\n",
              "       [0., 0., 1.],\n",
              "       [0., 0., 1.],\n",
              "       [0., 0., 1.],\n",
              "       [0., 1., 0.],\n",
              "       [0., 1., 0.],\n",
              "       [0., 0., 1.],\n",
              "       [0., 0., 1.],\n",
              "       [0., 1., 0.],\n",
              "       [1., 0., 0.]], dtype=float32)"
            ]
          },
          "metadata": {},
          "execution_count": 15
        }
      ]
    },
    {
      "cell_type": "code",
      "source": [
        "# check the shape\n",
        "print('input train: ', train_x.shape)\n",
        "print('input dev: ', dev_x.shape)\n",
        "print('label train: ', train_y.shape)\n",
        "print('label dev: ', dev_y.shape)"
      ],
      "metadata": {
        "colab": {
          "base_uri": "https://localhost:8080/"
        },
        "id": "yMBRDFwaZwFA",
        "outputId": "1c6a164d-2afc-4118-f751-368ea0660757"
      },
      "execution_count": null,
      "outputs": [
        {
          "output_type": "stream",
          "name": "stdout",
          "text": [
            "input train:  (24000, 500)\n",
            "input dev:  (8000, 500)\n",
            "label train:  (24000, 3)\n",
            "label dev:  (8000, 3)\n"
          ]
        }
      ]
    },
    {
      "cell_type": "markdown",
      "source": [
        "##Feedforward"
      ],
      "metadata": {
        "id": "qCU0vl8QiM-A"
      }
    },
    {
      "cell_type": "code",
      "source": [
        "#instantiation\n",
        "model = Sequential()\n",
        "\n",
        "# add embedding layer\n",
        "model.add(Embedding (input_dim=vocab_size+1,\n",
        "                     input_length=max_len,\n",
        "                     output_dim=vector_dim,\n",
        "                     weights=[embedding_matrix],\n",
        "                     mask_zero=True,\n",
        "                     trainable=False))\n",
        "\n",
        "# average\n",
        "model.add(GlobalAveragePooling1D())\n",
        "\n",
        "# add hidden layer\n",
        "model.add(Dense (150, activation='relu'))\n",
        "\n",
        "# add output layer\n",
        "model.add(Dense (3, activation='softmax'))\n",
        "\n",
        "# complile model\n",
        "model.compile(optimizer='rmsprop',loss='categorical_crossentropy',metrics=['accuracy'])\n",
        "\n",
        "model.summary()"
      ],
      "metadata": {
        "colab": {
          "base_uri": "https://localhost:8080/"
        },
        "id": "eYziEkaziOFX",
        "outputId": "bdc3ed5d-aecb-4bdf-f92e-969d6d1aee36"
      },
      "execution_count": null,
      "outputs": [
        {
          "output_type": "stream",
          "name": "stdout",
          "text": [
            "Model: \"sequential\"\n",
            "_________________________________________________________________\n",
            " Layer (type)                Output Shape              Param #   \n",
            "=================================================================\n",
            " embedding (Embedding)       (None, 500, 50)           3081600   \n",
            "                                                                 \n",
            " global_average_pooling1d (  (None, 50)                0         \n",
            " GlobalAveragePooling1D)                                         \n",
            "                                                                 \n",
            " dense (Dense)               (None, 150)               7650      \n",
            "                                                                 \n",
            " dense_1 (Dense)             (None, 3)                 453       \n",
            "                                                                 \n",
            "=================================================================\n",
            "Total params: 3089703 (11.79 MB)\n",
            "Trainable params: 8103 (31.65 KB)\n",
            "Non-trainable params: 3081600 (11.76 MB)\n",
            "_________________________________________________________________\n"
          ]
        }
      ]
    },
    {
      "cell_type": "code",
      "source": [
        "plot_model(model,show_shapes=True,to_file='model.png')\n",
        "display_png(Image('model.png'))"
      ],
      "metadata": {
        "colab": {
          "base_uri": "https://localhost:8080/",
          "height": 533
        },
        "id": "2ugFpX4oi_XO",
        "outputId": "057faa4f-d387-4e5e-fb58-1e41d42e4788"
      },
      "execution_count": null,
      "outputs": [
        {
          "output_type": "display_data",
          "data": {
            "image/png": "[encoded data removed]"
          },
          "metadata": {}
        }
      ]
    },
    {
      "cell_type": "code",
      "source": [
        "history = model.fit(train_x,train_y,batch_size=128,epochs=10,validation_data=(dev_x,dev_y))"
      ],
      "metadata": {
        "colab": {
          "base_uri": "https://localhost:8080/"
        },
        "id": "xFDBjP2ZjBxW",
        "outputId": "d65d19f1-54ea-438c-db64-740c49342bd7"
      },
      "execution_count": null,
      "outputs": [
        {
          "output_type": "stream",
          "name": "stdout",
          "text": [
            "Epoch 1/10\n",
            "188/188 [==============================] - 3s 14ms/step - loss: 0.7843 - accuracy: 0.6393 - val_loss: 0.7808 - val_accuracy: 0.6370\n",
            "Epoch 2/10\n",
            "188/188 [==============================] - 2s 12ms/step - loss: 0.7592 - accuracy: 0.6450 - val_loss: 0.7608 - val_accuracy: 0.6410\n",
            "Epoch 3/10\n",
            "188/188 [==============================] - 3s 16ms/step - loss: 0.7527 - accuracy: 0.6472 - val_loss: 0.7585 - val_accuracy: 0.6440\n",
            "Epoch 4/10\n",
            "188/188 [==============================] - 4s 23ms/step - loss: 0.7498 - accuracy: 0.6490 - val_loss: 0.7659 - val_accuracy: 0.6434\n",
            "Epoch 5/10\n",
            "188/188 [==============================] - 2s 12ms/step - loss: 0.7461 - accuracy: 0.6499 - val_loss: 0.7878 - val_accuracy: 0.6041\n",
            "Epoch 6/10\n",
            "188/188 [==============================] - 2s 12ms/step - loss: 0.7451 - accuracy: 0.6505 - val_loss: 0.7613 - val_accuracy: 0.6438\n",
            "Epoch 7/10\n",
            "188/188 [==============================] - 3s 13ms/step - loss: 0.7427 - accuracy: 0.6519 - val_loss: 0.7693 - val_accuracy: 0.6403\n",
            "Epoch 8/10\n",
            "188/188 [==============================] - 2s 12ms/step - loss: 0.7411 - accuracy: 0.6508 - val_loss: 0.7601 - val_accuracy: 0.6439\n",
            "Epoch 9/10\n",
            "188/188 [==============================] - 3s 17ms/step - loss: 0.7388 - accuracy: 0.6535 - val_loss: 0.7566 - val_accuracy: 0.6449\n",
            "Epoch 10/10\n",
            "188/188 [==============================] - 2s 11ms/step - loss: 0.7365 - accuracy: 0.6551 - val_loss: 0.7562 - val_accuracy: 0.6444\n"
          ]
        }
      ]
    },
    {
      "cell_type": "code",
      "source": [
        "plt.plot(history.history['accuracy'])\n",
        "plt.plot(history.history['val_accuracy'])\n",
        "plt.ylabel('accuracy')\n",
        "plt.xlabel('epoch')\n",
        "plt.legend(['train', 'dev'], loc='best')\n",
        "plt.show()"
      ],
      "metadata": {
        "colab": {
          "base_uri": "https://localhost:8080/",
          "height": 453
        },
        "id": "Eh9lDthCjES2",
        "outputId": "463c7644-c6df-441f-c936-a2459c6b1728"
      },
      "execution_count": null,
      "outputs": [
        {
          "output_type": "display_data",
          "data": {
            "text/plain": [
              "<Figure size 640x480 with 1 Axes>"
            ],
            "image/png": "[encoded data removed]"
          },
          "metadata": {}
        }
      ]
    },
    {
      "cell_type": "code",
      "source": [
        "plt.plot(history.history['loss'])\n",
        "plt.plot(history.history['val_loss'])\n",
        "plt.ylabel('loss')\n",
        "plt.xlabel('epoch')\n",
        "plt.legend(['train', 'dev'], loc='best')\n",
        "plt.show()"
      ],
      "metadata": {
        "colab": {
          "base_uri": "https://localhost:8080/",
          "height": 456
        },
        "id": "H1vpKb9zjFsg",
        "outputId": "7d3375c6-c0b6-4324-b6cc-8b6d6590a724"
      },
      "execution_count": null,
      "outputs": [
        {
          "output_type": "display_data",
          "data": {
            "text/plain": [
              "<Figure size 640x480 with 1 Axes>"
            ],
            "image/png": "[encoded data removed]"
          },
          "metadata": {}
        }
      ]
    },
    {
      "cell_type": "code",
      "source": [
        "prediction = [np.argmax(x) for x in model.predict(dev_x)]\n",
        "print(classification_report(dev['label'], prediction))"
      ],
      "metadata": {
        "colab": {
          "base_uri": "https://localhost:8080/"
        },
        "id": "IjQxdBYzjHX2",
        "outputId": "874bf210-3d4d-4d36-c302-a9923859a247"
      },
      "execution_count": null,
      "outputs": [
        {
          "output_type": "stream",
          "name": "stdout",
          "text": [
            "250/250 [==============================] - 1s 4ms/step\n",
            "              precision    recall  f1-score   support\n",
            "\n",
            "           0       0.40      0.11      0.17       452\n",
            "           1       0.46      0.18      0.25      2449\n",
            "           2       0.67      0.92      0.78      5099\n",
            "\n",
            "    accuracy                           0.64      8000\n",
            "   macro avg       0.51      0.40      0.40      8000\n",
            "weighted avg       0.59      0.64      0.58      8000\n",
            "\n"
          ]
        }
      ]
    }
  ]
}